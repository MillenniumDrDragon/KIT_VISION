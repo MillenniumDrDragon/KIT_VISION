{
 "cells": [
  {
   "cell_type": "code",
   "execution_count": 1,
   "id": "0761003e",
   "metadata": {},
   "outputs": [
    {
     "name": "stdout",
     "output_type": "stream",
     "text": [
      "4.8.0\n"
     ]
    }
   ],
   "source": [
    "import cv2\n",
    "print(cv2.__version__)\n",
    "import numpy as np"
   ]
  },
  {
   "cell_type": "markdown",
   "id": "1d1da72b",
   "metadata": {},
   "source": [
    "1.컴퓨터 그래픽, 영상 처리, 컴퓨터 비전에 대해 설명하고 이들의 관계에 대하여 설명하시오."
   ]
  },
  {
   "cell_type": "markdown",
   "id": "16ff1062",
   "metadata": {},
   "source": [
    "컴퓨터 그래픽: 컴퓨터를 이용해 실제 세계의 영상을 조작하거나 새로운 영상을 만들어내는 기술\n",
    "영상 처리: 입출력이 영상인 모든 형태의 정보 처리를 가리키며 사진이나 동영상을 처리하는 것이 대표적인 예이다.\n",
    "컴퓨터 비전: 이미지와 비디오를 처리해 유의미한 정보를 추출하는 인공지능 기술이다."
   ]
  },
  {
   "cell_type": "markdown",
   "id": "25aedff5",
   "metadata": {},
   "source": [
    "2.모든 픽셀이 검은색인 가로 1024, 세로 768, 픽셀 해상도의 컬러 이미지에서, x 좌표 150, y 좌표 200 위치부터 가로 400, 세로 300의 직사각형 관심 영역을 지정하고 형태를 출력하는 코드를 작성하시오."
   ]
  },
  {
   "cell_type": "code",
   "execution_count": 2,
   "id": "0227e198",
   "metadata": {},
   "outputs": [],
   "source": [
    "import cv2\n",
    "import numpy as np\n",
    "\n",
    "img = np.zeros((1024, 768, 3), np.uint8)\n",
    "x, y, w, h = 150, 200, 400, 300\n",
    "roi = img[x:x+w, y:y+h]\n",
    "cv2.rectangle(roi, (0,0), (h-1, w-1), (0,255,0), 5)\n",
    "\n",
    "cv2.imshow('roi test',img)\n",
    "cv2.waitKey(0)\n",
    "cv2.destroyAllWindows()"
   ]
  },
  {
   "cell_type": "markdown",
   "id": "9c201a10",
   "metadata": {},
   "source": [
    "3.주어진 원본 이미지의 전체 픽셀값을 75 만큼 밝아지도록 하는 이미지 연산을 수행하고 원본 이미지와 밝아진 이미지를 한 개의 창에 보여주는 코드를 작성하시오."
   ]
  },
  {
   "cell_type": "code",
   "execution_count": 8,
   "id": "e1b757af",
   "metadata": {},
   "outputs": [],
   "source": [
    "import cv2\n",
    "import numpy as np\n",
    "\n",
    "\n",
    "src1 = cv2.imread('car.png')\n",
    "\n",
    "dst1 = cv2.add(src1, (75,75,75,0))\n",
    "\n",
    "addv = np.vstack((src1,dst1))\n",
    "\n",
    "cv2.imshow('imgv',addv)\n",
    "\n",
    "cv2.waitKey()\n",
    "cv2.destroyAllWindows()"
   ]
  },
  {
   "cell_type": "markdown",
   "id": "fb4528aa",
   "metadata": {},
   "source": [
    "4.영상 모폴로지 변환 방법 중 열람(Open)과 닫힘(Close)에 대해 설명하고 주로 어떤 목적으로 사용되는지 설명하시오."
   ]
  },
  {
   "cell_type": "markdown",
   "id": "d0d791b2",
   "metadata": {},
   "source": [
    "영상 모폴로지 변환\n",
    "열림(Open): 침식 후에 팽창을 적용(이미지 내 객체의 크기 변화 없음)\n",
    "닫힘(Close): 팽창 후에 침식을 적용(이미지 내 객체 크기에는 변화 없음)"
   ]
  },
  {
   "cell_type": "markdown",
   "id": "4bb906e7",
   "metadata": {},
   "source": [
    "모든 픽셀이 검은색인 가로 1024, 세로 768픽셀 해상도의 컬러 이미지에서, X좌표 300, y 좌표 450 위치가 중심이고, 반지름이 75px이며 두께가 5px인 빨간색 원을 그리는 코드를 작성하시오."
   ]
  },
  {
   "cell_type": "code",
   "execution_count": 4,
   "id": "db810320",
   "metadata": {},
   "outputs": [],
   "source": [
    "import numpy as np\n",
    "import cv2\n",
    "\n",
    "\n",
    "##색상\n",
    "red_color = (0, 0, 255)\n",
    "\n",
    "##캔버스\n",
    "img = np.zeros((1024, 768, 3), np.uint8)\n",
    "\n",
    "img = cv2.circle(img, (300,450), 75, red_color, 5)\n",
    "\n",
    "cv2.imshow('circle',img)\n",
    "cv2.waitKey(0)\n",
    "cv2.destroyAllWindows()"
   ]
  }
 ],
 "metadata": {
  "kernelspec": {
   "display_name": "Python 3 (ipykernel)",
   "language": "python",
   "name": "python3"
  },
  "language_info": {
   "codemirror_mode": {
    "name": "ipython",
    "version": 3
   },
   "file_extension": ".py",
   "mimetype": "text/x-python",
   "name": "python",
   "nbconvert_exporter": "python",
   "pygments_lexer": "ipython3",
   "version": "3.11.4"
  }
 },
 "nbformat": 4,
 "nbformat_minor": 5
}
